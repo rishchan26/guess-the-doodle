{
  "nbformat": 4,
  "nbformat_minor": 0,
  "metadata": {
    "colab": {
      "name": "quick_draw_cnn",
      "provenance": [],
      "authorship_tag": "ABX9TyMu1rw9X2R49AOuSv9ioqgi",
      "include_colab_link": true
    },
    "kernelspec": {
      "name": "python3",
      "display_name": "Python 3"
    },
    "accelerator": "GPU"
  },
  "cells": [
    {
      "cell_type": "markdown",
      "metadata": {
        "id": "view-in-github",
        "colab_type": "text"
      },
      "source": [
        "<a href=\"https://colab.research.google.com/github/sudo-rm-f-rish/guess-the-doodle/blob/master/quick_draw_cnn.ipynb\" target=\"_parent\"><img src=\"https://colab.research.google.com/assets/colab-badge.svg\" alt=\"Open In Colab\"/></a>"
      ]
    },
    {
      "cell_type": "code",
      "metadata": {
        "id": "bSwGjSCCrhdh",
        "colab_type": "code",
        "colab": {
          "base_uri": "https://localhost:8080/",
          "height": 122
        },
        "outputId": "a216462e-e04f-4d82-9c44-a3dcbfd8e667"
      },
      "source": [
        "from google.colab import drive\n",
        "drive.mount('/content/gdrive')"
      ],
      "execution_count": null,
      "outputs": [
        {
          "output_type": "stream",
          "text": [
            "Go to this URL in a browser: https://accounts.google.com/o/oauth2/auth?client_id=947318989803-6bn6qk8qdgf4n4g3pfee6491hc0brc4i.apps.googleusercontent.com&redirect_uri=urn%3aietf%3awg%3aoauth%3a2.0%3aoob&response_type=code&scope=email%20https%3a%2f%2fwww.googleapis.com%2fauth%2fdocs.test%20https%3a%2f%2fwww.googleapis.com%2fauth%2fdrive%20https%3a%2f%2fwww.googleapis.com%2fauth%2fdrive.photos.readonly%20https%3a%2f%2fwww.googleapis.com%2fauth%2fpeopleapi.readonly\n",
            "\n",
            "Enter your authorization code:\n",
            "··········\n",
            "Mounted at /content/gdrive\n"
          ],
          "name": "stdout"
        }
      ]
    },
    {
      "cell_type": "code",
      "metadata": {
        "id": "ucwaq5adrklQ",
        "colab_type": "code",
        "colab": {
          "base_uri": "https://localhost:8080/",
          "height": 1000
        },
        "outputId": "341639ea-705a-42e8-c259-71c8452aae31"
      },
      "source": [
        "%cd gdrive/My Drive/\n",
        "%cd quick_draw_data/\n",
        "%ls"
      ],
      "execution_count": null,
      "outputs": [
        {
          "output_type": "stream",
          "text": [
            "/content/gdrive/My Drive\n",
            "/content/gdrive/My Drive/quick_draw_data\n",
            "aircraft_carrier.npy  firetruck.npy        popsicle.npy\n",
            "airplane.npy          fish.npy             postcard.npy\n",
            "alarm_clock.npy       flamingo.npy         potato.npy\n",
            "ambulance.npy         flashlight.npy       power_outlet.npy\n",
            "angel.npy             flip_flops.npy       purse.npy\n",
            "animal_migration.npy  floor_lamp.npy       rabbit.npy\n",
            "ant.npy               flower.npy           raccoon.npy\n",
            "anvil.npy             flying_saucer.npy    radio.npy\n",
            "apple.npy             foot.npy             rainbow.npy\n",
            "arm.npy               fork.npy             rain.npy\n",
            "asparagus.npy         frog.npy             rake.npy\n",
            "axe.npy               frying_pan.npy       remote_control.npy\n",
            "backpack.npy          garden_hose.npy      rhinoceros.npy\n",
            "banana.npy            garden.npy           rifle.npy\n",
            "bandage.npy           giraffe.npy          river.npy\n",
            "barn.npy              goatee.npy           roller_coaster.npy\n",
            "baseball_bat.npy      golf_club.npy        rollerskates.npy\n",
            "baseball.npy          grapes.npy           sailboat.npy\n",
            "basketball.npy        grass.npy            sandwich.npy\n",
            "basket.npy            guitar.npy           saw.npy\n",
            "bathtub.npy           hamburger.npy        saxophone.npy\n",
            "bat.npy               hammer.npy           school_bus.npy\n",
            "beach.npy             hand.npy             scissors.npy\n",
            "beard.npy             harp.npy             scorpion.npy\n",
            "bear.npy              hat.npy              screwdriver.npy\n",
            "bed.npy               headphones.npy       sea_turtle.npy\n",
            "bee.npy               hedgehog.npy         see_saw.npy\n",
            "belt.npy              helicopter.npy       shark.npy\n",
            "bench.npy             helmet.npy           sheep.npy\n",
            "bicycle.npy           hexagon.npy          shoe.npy\n",
            "binoculars.npy        hockey_puck.npy      shorts.npy\n",
            "bird.npy              hockey_stick.npy     shovel.npy\n",
            "birthday_cake.npy     horse.npy            sink.npy\n",
            "blackberry.npy        hospital.npy         skateboard.npy\n",
            "blueberry.npy         hot_air_balloon.npy  skull.npy\n",
            "book.npy              hot_dog.npy          skyscraper.npy\n",
            "boomerang.npy         hot_tub.npy          sleeping_bag.npy\n",
            "bottlecap.npy         hourglass.npy        smiley_face.npy\n",
            "bowtie.npy            house.npy            snail.npy\n",
            "bracelet.npy          house_plant.npy      snake.npy\n",
            "brain.npy             hurricane.npy        snorkel.npy\n",
            "bread.npy             ice_cream.npy        snowflake.npy\n",
            "bridge.npy            jacket.npy           snowman.npy\n",
            "broccoli.npy          jail.npy             soccer_ball.npy\n",
            "broom.npy             kangaroo.npy         sock.npy\n",
            "bucket.npy            keyboard.npy         speedboat.npy\n",
            "bulldozer.npy         key.npy              spider.npy\n",
            "bush.npy              knee.npy             spoon.npy\n",
            "bus.npy               knife.npy            spreadsheet.npy\n",
            "butterfly.npy         ladder.npy           square.npy\n",
            "cactus.npy            lantern.npy          squiggle.npy\n",
            "cake.npy              laptop.npy           squirrel.npy\n",
            "calculator.npy        leaf.npy             stairs.npy\n",
            "calendar.npy          leg.npy              star.npy\n",
            "camel.npy             light_bulb.npy       steak.npy\n",
            "camera.npy            lighter.npy          stereo.npy\n",
            "camouflage.npy        lighthouse.npy       stethoscope.npy\n",
            "campfire.npy          lightning.npy        stitches.npy\n",
            "candle.npy            line.npy             stop_sign.npy\n",
            "cannon.npy            lion.npy             stove.npy\n",
            "canoe.npy             lipstick.npy         strawberry.npy\n",
            "car.npy               lobster.npy          streetlight.npy\n",
            "carrot.npy            lollipop.npy         string_bean.npy\n",
            "castle.npy            mailbox.npy          submarine.npy\n",
            "cat.npy               map.npy              suitcase.npy\n",
            "ceiling_fan.npy       marker.npy           sun.npy\n",
            "cello.npy             matches.npy          swan.npy\n",
            "cell_phone.npy        megaphone.npy        sweater.npy\n",
            "chair.npy             mermaid.npy          swing_set.npy\n",
            "chandelier.npy        microphone.npy       sword.npy\n",
            "church.npy            microwave.npy        syringe.npy\n",
            "circle.npy            monkey.npy           table.npy\n",
            "clarinet.npy          moon.npy             teapot.npy\n",
            "clock.npy             mosquito.npy         teddy-bear.npy\n",
            "cloud.npy             motorbike.npy        telephone.npy\n",
            "coffee_cup.npy        mountain.npy         television.npy\n",
            "compass.npy           mouse.npy            tennis_racquet.npy\n",
            "computer.npy          moustache.npy        tent.npy\n",
            "cookie.npy            mouth.npy            The_Eiffel_Tower.npy\n",
            "cooler.npy            mug.npy              The_Great_Wall_of_China.npy\n",
            "couch.npy             mushroom.npy         The_Mona_Lisa.npy\n",
            "cow.npy               nail.npy             tiger.npy\n",
            "crab.npy              necklace.npy         toaster.npy\n",
            "crayon.npy            nose.npy             toe.npy\n",
            "crocodile.npy         ocean.npy            toilet.npy\n",
            "crown.npy             octagon.npy          toothbrush.npy\n",
            "cruise_ship.npy       octopus.npy          tooth.npy\n",
            "cup.npy               onion.npy            toothpaste.npy\n",
            "diamond.npy           oven.npy             tornado.npy\n",
            "dishwasher.npy        owl.npy              tractor.npy\n",
            "diving_board.npy      paintbrush.npy       traffic_light.npy\n",
            "dog.npy               paint_can.npy        train.npy\n",
            "dolphin.npy           palm_tree.npy        tree.npy\n",
            "donut.npy             panda.npy            triangle.npy\n",
            "door.npy              pants.npy            trombone.npy\n",
            "dragon.npy            paper_clip.npy       truck.npy\n",
            "dresser.npy           parachute.npy        trumpet.npy\n",
            "drill.npy             parrot.npy           t-shirt.npy\n",
            "drums.npy             passport.npy         umbrella.npy\n",
            "duck.npy              peanut.npy           underwear.npy\n",
            "dumbbell.npy          pear.npy             van.npy\n",
            "ear.npy               peas.npy             vase.npy\n",
            "elbow.npy             pencil.npy           violin.npy\n",
            "elephant.npy          penguin.npy          washing_machine.npy\n",
            "envelope.npy          piano.npy            watermelon.npy\n",
            "eraser.npy            pickup_truck.npy     waterslide.npy\n",
            "eyeglasses.npy        picture_frame.npy    whale.npy\n",
            "eye.npy               pig.npy              wheel.npy\n",
            "face.npy              pillow.npy           windmill.npy\n",
            "fan.npy               pineapple.npy        wine_bottle.npy\n",
            "feather.npy           pizza.npy            wine_glass.npy\n",
            "fence.npy             pliers.npy           wristwatch.npy\n",
            "finger.npy            police_car.npy       yoga.npy\n",
            "fire_hydrant.npy      pond.npy             zebra.npy\n",
            "fireplace.npy         pool.npy             zigzag.npy\n"
          ],
          "name": "stdout"
        }
      ]
    },
    {
      "cell_type": "code",
      "metadata": {
        "id": "Fm1fXOoor5-F",
        "colab_type": "code",
        "colab": {}
      },
      "source": [
        "#imports\n",
        "import glob\n",
        "import numpy as np\n",
        "import os\n",
        "from matplotlib import pyplot as plt\n",
        "from sklearn.model_selection import train_test_split\n",
        "from tensorflow.keras import layers\n",
        "from tensorflow import keras \n",
        "import tensorflow as tf"
      ],
      "execution_count": null,
      "outputs": []
    },
    {
      "cell_type": "code",
      "metadata": {
        "id": "foTtJxYBr9cC",
        "colab_type": "code",
        "colab": {
          "base_uri": "https://localhost:8080/",
          "height": 1000
        },
        "outputId": "e05bdced-2343-4c58-85bf-2d4d050fc233"
      },
      "source": [
        "files = glob.glob('./*npy')\n",
        "class_name_list = []\n",
        "X = np.empty([0, 784])\n",
        "y = np.empty([0])\n",
        "for i, file in enumerate(files):\n",
        "    class_name, _ = os.path.splitext(os.path.basename(file))\n",
        "    class_name_list.append(class_name)\n",
        "    print('Reading data from file: {}'.format(class_name))\n",
        "    data = np.load(file)\n",
        "    labels = np.full(data.shape[0], i)\n",
        "    X = np.concatenate((X, data), axis=0)\n",
        "    y = np.append(y, labels)"
      ],
      "execution_count": null,
      "outputs": [
        {
          "output_type": "stream",
          "text": [
            "Reading data from file: aircraft_carrier\n",
            "Reading data from file: airplane\n",
            "Reading data from file: alarm_clock\n",
            "Reading data from file: ambulance\n",
            "Reading data from file: angel\n",
            "Reading data from file: animal_migration\n",
            "Reading data from file: ant\n",
            "Reading data from file: anvil\n",
            "Reading data from file: apple\n",
            "Reading data from file: arm\n",
            "Reading data from file: asparagus\n",
            "Reading data from file: axe\n",
            "Reading data from file: backpack\n",
            "Reading data from file: banana\n",
            "Reading data from file: bandage\n",
            "Reading data from file: barn\n",
            "Reading data from file: baseball\n",
            "Reading data from file: baseball_bat\n",
            "Reading data from file: basket\n",
            "Reading data from file: basketball\n",
            "Reading data from file: bat\n",
            "Reading data from file: bathtub\n",
            "Reading data from file: beach\n",
            "Reading data from file: bear\n",
            "Reading data from file: beard\n",
            "Reading data from file: bed\n",
            "Reading data from file: bee\n",
            "Reading data from file: belt\n",
            "Reading data from file: bench\n",
            "Reading data from file: bicycle\n",
            "Reading data from file: binoculars\n",
            "Reading data from file: bird\n",
            "Reading data from file: birthday_cake\n",
            "Reading data from file: blackberry\n",
            "Reading data from file: blueberry\n",
            "Reading data from file: book\n",
            "Reading data from file: boomerang\n",
            "Reading data from file: bottlecap\n",
            "Reading data from file: bowtie\n",
            "Reading data from file: bracelet\n",
            "Reading data from file: brain\n",
            "Reading data from file: bread\n",
            "Reading data from file: bridge\n",
            "Reading data from file: broccoli\n",
            "Reading data from file: broom\n",
            "Reading data from file: bucket\n",
            "Reading data from file: bulldozer\n",
            "Reading data from file: bus\n",
            "Reading data from file: bush\n",
            "Reading data from file: butterfly\n",
            "Reading data from file: cactus\n",
            "Reading data from file: cake\n",
            "Reading data from file: calculator\n",
            "Reading data from file: calendar\n",
            "Reading data from file: camel\n",
            "Reading data from file: camera\n",
            "Reading data from file: camouflage\n",
            "Reading data from file: campfire\n",
            "Reading data from file: candle\n",
            "Reading data from file: cannon\n",
            "Reading data from file: canoe\n",
            "Reading data from file: car\n",
            "Reading data from file: carrot\n",
            "Reading data from file: castle\n",
            "Reading data from file: cat\n",
            "Reading data from file: ceiling_fan\n",
            "Reading data from file: cello\n",
            "Reading data from file: cell_phone\n",
            "Reading data from file: chair\n",
            "Reading data from file: chandelier\n",
            "Reading data from file: church\n",
            "Reading data from file: circle\n",
            "Reading data from file: clarinet\n",
            "Reading data from file: clock\n",
            "Reading data from file: cloud\n",
            "Reading data from file: coffee_cup\n",
            "Reading data from file: compass\n",
            "Reading data from file: computer\n",
            "Reading data from file: cookie\n",
            "Reading data from file: cooler\n",
            "Reading data from file: couch\n",
            "Reading data from file: cow\n",
            "Reading data from file: crab\n",
            "Reading data from file: crayon\n",
            "Reading data from file: crocodile\n",
            "Reading data from file: crown\n",
            "Reading data from file: cruise_ship\n",
            "Reading data from file: cup\n",
            "Reading data from file: diamond\n",
            "Reading data from file: dishwasher\n",
            "Reading data from file: diving_board\n",
            "Reading data from file: dog\n",
            "Reading data from file: dolphin\n",
            "Reading data from file: donut\n",
            "Reading data from file: door\n",
            "Reading data from file: dragon\n",
            "Reading data from file: dresser\n",
            "Reading data from file: drill\n",
            "Reading data from file: drums\n",
            "Reading data from file: duck\n",
            "Reading data from file: dumbbell\n",
            "Reading data from file: ear\n",
            "Reading data from file: elbow\n",
            "Reading data from file: elephant\n",
            "Reading data from file: envelope\n",
            "Reading data from file: eraser\n",
            "Reading data from file: eye\n",
            "Reading data from file: eyeglasses\n",
            "Reading data from file: face\n",
            "Reading data from file: fan\n",
            "Reading data from file: feather\n",
            "Reading data from file: fence\n",
            "Reading data from file: finger\n",
            "Reading data from file: fire_hydrant\n",
            "Reading data from file: fireplace\n",
            "Reading data from file: firetruck\n",
            "Reading data from file: fish\n",
            "Reading data from file: flamingo\n",
            "Reading data from file: flashlight\n",
            "Reading data from file: flip_flops\n",
            "Reading data from file: floor_lamp\n",
            "Reading data from file: flower\n",
            "Reading data from file: flying_saucer\n",
            "Reading data from file: foot\n",
            "Reading data from file: fork\n",
            "Reading data from file: frog\n",
            "Reading data from file: frying_pan\n",
            "Reading data from file: garden\n",
            "Reading data from file: garden_hose\n",
            "Reading data from file: giraffe\n",
            "Reading data from file: goatee\n",
            "Reading data from file: golf_club\n",
            "Reading data from file: grapes\n",
            "Reading data from file: grass\n",
            "Reading data from file: guitar\n",
            "Reading data from file: hamburger\n",
            "Reading data from file: hammer\n",
            "Reading data from file: hand\n",
            "Reading data from file: harp\n",
            "Reading data from file: hat\n",
            "Reading data from file: headphones\n",
            "Reading data from file: hedgehog\n",
            "Reading data from file: helicopter\n",
            "Reading data from file: helmet\n",
            "Reading data from file: hexagon\n",
            "Reading data from file: hockey_puck\n",
            "Reading data from file: hockey_stick\n",
            "Reading data from file: horse\n",
            "Reading data from file: hospital\n",
            "Reading data from file: hot_air_balloon\n",
            "Reading data from file: hot_dog\n",
            "Reading data from file: hot_tub\n",
            "Reading data from file: hourglass\n",
            "Reading data from file: house\n",
            "Reading data from file: house_plant\n",
            "Reading data from file: hurricane\n",
            "Reading data from file: ice_cream\n",
            "Reading data from file: jacket\n",
            "Reading data from file: jail\n",
            "Reading data from file: kangaroo\n",
            "Reading data from file: key\n",
            "Reading data from file: keyboard\n",
            "Reading data from file: knee\n",
            "Reading data from file: knife\n",
            "Reading data from file: ladder\n",
            "Reading data from file: lantern\n",
            "Reading data from file: laptop\n",
            "Reading data from file: leaf\n",
            "Reading data from file: leg\n",
            "Reading data from file: light_bulb\n",
            "Reading data from file: lighter\n",
            "Reading data from file: lighthouse\n",
            "Reading data from file: lightning\n",
            "Reading data from file: line\n",
            "Reading data from file: lion\n",
            "Reading data from file: lipstick\n",
            "Reading data from file: lobster\n",
            "Reading data from file: lollipop\n",
            "Reading data from file: mailbox\n",
            "Reading data from file: map\n",
            "Reading data from file: marker\n",
            "Reading data from file: matches\n",
            "Reading data from file: megaphone\n",
            "Reading data from file: mermaid\n",
            "Reading data from file: microphone\n",
            "Reading data from file: microwave\n",
            "Reading data from file: monkey\n",
            "Reading data from file: moon\n",
            "Reading data from file: mosquito\n",
            "Reading data from file: motorbike\n",
            "Reading data from file: mountain\n",
            "Reading data from file: mouse\n",
            "Reading data from file: moustache\n",
            "Reading data from file: mouth\n",
            "Reading data from file: mug\n",
            "Reading data from file: mushroom\n",
            "Reading data from file: nail\n",
            "Reading data from file: necklace\n",
            "Reading data from file: nose\n",
            "Reading data from file: ocean\n",
            "Reading data from file: octagon\n",
            "Reading data from file: octopus\n",
            "Reading data from file: onion\n",
            "Reading data from file: oven\n",
            "Reading data from file: owl\n",
            "Reading data from file: paintbrush\n",
            "Reading data from file: paint_can\n",
            "Reading data from file: palm_tree\n",
            "Reading data from file: panda\n",
            "Reading data from file: pants\n",
            "Reading data from file: paper_clip\n",
            "Reading data from file: parachute\n",
            "Reading data from file: parrot\n",
            "Reading data from file: passport\n",
            "Reading data from file: peanut\n",
            "Reading data from file: pear\n",
            "Reading data from file: peas\n",
            "Reading data from file: pencil\n",
            "Reading data from file: penguin\n",
            "Reading data from file: piano\n",
            "Reading data from file: pickup_truck\n",
            "Reading data from file: picture_frame\n",
            "Reading data from file: pig\n",
            "Reading data from file: pillow\n",
            "Reading data from file: pineapple\n",
            "Reading data from file: pizza\n",
            "Reading data from file: pliers\n",
            "Reading data from file: police_car\n",
            "Reading data from file: pond\n",
            "Reading data from file: pool\n",
            "Reading data from file: popsicle\n",
            "Reading data from file: postcard\n",
            "Reading data from file: potato\n",
            "Reading data from file: power_outlet\n",
            "Reading data from file: purse\n",
            "Reading data from file: rabbit\n",
            "Reading data from file: raccoon\n",
            "Reading data from file: radio\n",
            "Reading data from file: rain\n",
            "Reading data from file: rainbow\n",
            "Reading data from file: rake\n",
            "Reading data from file: remote_control\n",
            "Reading data from file: rhinoceros\n",
            "Reading data from file: rifle\n",
            "Reading data from file: river\n",
            "Reading data from file: roller_coaster\n",
            "Reading data from file: rollerskates\n",
            "Reading data from file: sailboat\n",
            "Reading data from file: sandwich\n",
            "Reading data from file: saw\n",
            "Reading data from file: saxophone\n",
            "Reading data from file: school_bus\n",
            "Reading data from file: scissors\n",
            "Reading data from file: scorpion\n",
            "Reading data from file: screwdriver\n",
            "Reading data from file: sea_turtle\n",
            "Reading data from file: see_saw\n",
            "Reading data from file: shark\n",
            "Reading data from file: sheep\n",
            "Reading data from file: shoe\n",
            "Reading data from file: shorts\n",
            "Reading data from file: shovel\n",
            "Reading data from file: sink\n",
            "Reading data from file: skateboard\n",
            "Reading data from file: skull\n",
            "Reading data from file: skyscraper\n",
            "Reading data from file: sleeping_bag\n",
            "Reading data from file: smiley_face\n",
            "Reading data from file: snail\n",
            "Reading data from file: snake\n",
            "Reading data from file: snorkel\n",
            "Reading data from file: snowflake\n",
            "Reading data from file: snowman\n",
            "Reading data from file: soccer_ball\n",
            "Reading data from file: sock\n",
            "Reading data from file: speedboat\n",
            "Reading data from file: spider\n",
            "Reading data from file: spoon\n",
            "Reading data from file: spreadsheet\n",
            "Reading data from file: square\n",
            "Reading data from file: squiggle\n",
            "Reading data from file: squirrel\n",
            "Reading data from file: stairs\n",
            "Reading data from file: star\n",
            "Reading data from file: steak\n",
            "Reading data from file: stereo\n",
            "Reading data from file: stethoscope\n",
            "Reading data from file: stitches\n",
            "Reading data from file: stop_sign\n",
            "Reading data from file: stove\n",
            "Reading data from file: strawberry\n",
            "Reading data from file: streetlight\n",
            "Reading data from file: string_bean\n",
            "Reading data from file: submarine\n",
            "Reading data from file: suitcase\n",
            "Reading data from file: sun\n",
            "Reading data from file: swan\n",
            "Reading data from file: sweater\n",
            "Reading data from file: swing_set\n",
            "Reading data from file: sword\n",
            "Reading data from file: syringe\n",
            "Reading data from file: table\n",
            "Reading data from file: teapot\n",
            "Reading data from file: teddy-bear\n",
            "Reading data from file: telephone\n",
            "Reading data from file: television\n",
            "Reading data from file: tennis_racquet\n",
            "Reading data from file: tent\n",
            "Reading data from file: The_Eiffel_Tower\n",
            "Reading data from file: The_Great_Wall_of_China\n",
            "Reading data from file: The_Mona_Lisa\n",
            "Reading data from file: tiger\n",
            "Reading data from file: toaster\n",
            "Reading data from file: toe\n",
            "Reading data from file: toilet\n",
            "Reading data from file: tooth\n",
            "Reading data from file: toothbrush\n",
            "Reading data from file: toothpaste\n",
            "Reading data from file: tornado\n",
            "Reading data from file: tractor\n",
            "Reading data from file: traffic_light\n",
            "Reading data from file: train\n",
            "Reading data from file: tree\n",
            "Reading data from file: triangle\n",
            "Reading data from file: trombone\n",
            "Reading data from file: truck\n",
            "Reading data from file: trumpet\n",
            "Reading data from file: t-shirt\n",
            "Reading data from file: umbrella\n",
            "Reading data from file: underwear\n",
            "Reading data from file: van\n",
            "Reading data from file: vase\n",
            "Reading data from file: violin\n",
            "Reading data from file: washing_machine\n",
            "Reading data from file: watermelon\n",
            "Reading data from file: waterslide\n",
            "Reading data from file: whale\n",
            "Reading data from file: wheel\n",
            "Reading data from file: windmill\n",
            "Reading data from file: wine_bottle\n",
            "Reading data from file: wine_glass\n",
            "Reading data from file: wristwatch\n",
            "Reading data from file: yoga\n",
            "Reading data from file: zebra\n",
            "Reading data from file: zigzag\n"
          ],
          "name": "stdout"
        }
      ]
    },
    {
      "cell_type": "code",
      "metadata": {
        "id": "-BN2S3zf6oID",
        "colab_type": "code",
        "colab": {}
      },
      "source": [
        "X = X.reshape(X.shape[0], 28, 28, 1).astype('float32')\n",
        "y = y.astype('int')"
      ],
      "execution_count": null,
      "outputs": []
    },
    {
      "cell_type": "code",
      "metadata": {
        "id": "FSE-gqMl6s2P",
        "colab_type": "code",
        "colab": {
          "base_uri": "https://localhost:8080/",
          "height": 282
        },
        "outputId": "af12e77b-b083-47bb-96e9-46c63139f1ca"
      },
      "source": [
        "index = 12029\n",
        "plt.imshow(X[index].reshape(28, 28), cmap='gray')\n",
        "plt.show()\n",
        "print(class_name_list[y[index]])"
      ],
      "execution_count": null,
      "outputs": [
        {
          "output_type": "display_data",
          "data": {
            "image/png": "[encoded data removed]",
            "text/plain": [
              "<Figure size 432x288 with 1 Axes>"
            ]
          },
          "metadata": {
            "tags": [],
            "needs_background": "light"
          }
        },
        {
          "output_type": "stream",
          "text": [
            "ant\n"
          ],
          "name": "stdout"
        }
      ]
    },
    {
      "cell_type": "code",
      "metadata": {
        "id": "-ZV_cIPd651j",
        "colab_type": "code",
        "colab": {}
      },
      "source": [
        "X_train, X_test, y_train, y_test = train_test_split(X, \n",
        "                                                    y, \n",
        "                                                    test_size=0.2, \n",
        "                                                    shuffle=True, \n",
        "                                                    random_state=0)"
      ],
      "execution_count": null,
      "outputs": []
    },
    {
      "cell_type": "code",
      "metadata": {
        "id": "0ryskgU28ay0",
        "colab_type": "code",
        "colab": {}
      },
      "source": [
        "X_train = X_train / 255.0\n",
        "X_test = X_test / 255.0"
      ],
      "execution_count": null,
      "outputs": []
    },
    {
      "cell_type": "code",
      "metadata": {
        "id": "tMUi72xY8dJA",
        "colab_type": "code",
        "colab": {}
      },
      "source": [
        "num_of_classes = len(class_name_list)\n",
        "y_train = keras.utils.to_categorical(y_train, num_of_classes)\n",
        "y_test = keras.utils.to_categorical(y_test, num_of_classes)"
      ],
      "execution_count": null,
      "outputs": []
    },
    {
      "cell_type": "code",
      "metadata": {
        "id": "fy6E1o-n80dk",
        "colab_type": "code",
        "colab": {
          "base_uri": "https://localhost:8080/",
          "height": 646
        },
        "outputId": "6a93bdd0-44d3-44b9-aedc-806baee25845"
      },
      "source": [
        "model = keras.Sequential()\n",
        "model.add(layers.Convolution2D(16, (3, 3),padding='same',input_shape=(28,28,1), activation='relu'))\n",
        "model.add(layers.MaxPooling2D(pool_size=(2, 2)))\n",
        "model.add(layers.Convolution2D(32, (3, 3), padding='same', activation= 'relu'))\n",
        "model.add(layers.MaxPooling2D(pool_size=(2, 2)))\n",
        "model.add(layers.Convolution2D(64, (3, 3), padding='same', activation= 'relu'))\n",
        "model.add(layers.MaxPooling2D(pool_size =(2,2)))\n",
        "model.add(layers.Convolution2D(128, (3, 3), padding='same', activation= 'relu'))\n",
        "model.add(layers.MaxPooling2D(pool_size =(2,2)))\n",
        "model.add(layers.Flatten())\n",
        "model.add(layers.Dense(2000, activation='relu'))\n",
        "model.add(layers.Dropout(0.2))\n",
        "model.add(layers.Dense(1000, activation='relu'))\n",
        "model.add(layers.Dropout(0.2))\n",
        "model.add(layers.Dense(345, activation='softmax')) \n",
        "# Train model\n",
        "model.compile(loss='categorical_crossentropy',\n",
        "              optimizer='adam',\n",
        "              metrics=['top_k_categorical_accuracy'])\n",
        "print(model.summary())"
      ],
      "execution_count": null,
      "outputs": [
        {
          "output_type": "stream",
          "text": [
            "Model: \"sequential\"\n",
            "_________________________________________________________________\n",
            "Layer (type)                 Output Shape              Param #   \n",
            "=================================================================\n",
            "conv2d (Conv2D)              (None, 28, 28, 16)        160       \n",
            "_________________________________________________________________\n",
            "max_pooling2d (MaxPooling2D) (None, 14, 14, 16)        0         \n",
            "_________________________________________________________________\n",
            "conv2d_1 (Conv2D)            (None, 14, 14, 32)        4640      \n",
            "_________________________________________________________________\n",
            "max_pooling2d_1 (MaxPooling2 (None, 7, 7, 32)          0         \n",
            "_________________________________________________________________\n",
            "conv2d_2 (Conv2D)            (None, 7, 7, 64)          18496     \n",
            "_________________________________________________________________\n",
            "max_pooling2d_2 (MaxPooling2 (None, 3, 3, 64)          0         \n",
            "_________________________________________________________________\n",
            "conv2d_3 (Conv2D)            (None, 3, 3, 128)         73856     \n",
            "_________________________________________________________________\n",
            "max_pooling2d_3 (MaxPooling2 (None, 1, 1, 128)         0         \n",
            "_________________________________________________________________\n",
            "flatten (Flatten)            (None, 128)               0         \n",
            "_________________________________________________________________\n",
            "dense (Dense)                (None, 2000)              258000    \n",
            "_________________________________________________________________\n",
            "dropout (Dropout)            (None, 2000)              0         \n",
            "_________________________________________________________________\n",
            "dense_1 (Dense)              (None, 1000)              2001000   \n",
            "_________________________________________________________________\n",
            "dropout_1 (Dropout)          (None, 1000)              0         \n",
            "_________________________________________________________________\n",
            "dense_2 (Dense)              (None, 345)               345345    \n",
            "=================================================================\n",
            "Total params: 2,701,497\n",
            "Trainable params: 2,701,497\n",
            "Non-trainable params: 0\n",
            "_________________________________________________________________\n",
            "None\n"
          ],
          "name": "stdout"
        }
      ]
    },
    {
      "cell_type": "code",
      "metadata": {
        "id": "XKhdS7f99KA6",
        "colab_type": "code",
        "colab": {
          "base_uri": "https://localhost:8080/",
          "height": 377
        },
        "outputId": "86de6911-1439-40d9-9264-93e49ef4bba9"
      },
      "source": [
        "with tf.device('/device:GPU:0'):\n",
        "    model.fit(X_train, \n",
        "            y_train, \n",
        "            validation_split=0.1, \n",
        "            batch_size = 256, \n",
        "            epochs=10)"
      ],
      "execution_count": null,
      "outputs": [
        {
          "output_type": "stream",
          "text": [
            "Epoch 1/10\n",
            "1941/1941 [==============================] - 40s 21ms/step - loss: 3.1689 - top_k_categorical_accuracy: 0.5655 - val_loss: 2.3389 - val_top_k_categorical_accuracy: 0.7365\n",
            "Epoch 2/10\n",
            "1941/1941 [==============================] - 40s 21ms/step - loss: 2.2120 - top_k_categorical_accuracy: 0.7582 - val_loss: 2.0437 - val_top_k_categorical_accuracy: 0.7861\n",
            "Epoch 3/10\n",
            "1941/1941 [==============================] - 40s 21ms/step - loss: 1.9762 - top_k_categorical_accuracy: 0.7958 - val_loss: 1.8917 - val_top_k_categorical_accuracy: 0.8088\n",
            "Epoch 4/10\n",
            "1941/1941 [==============================] - 41s 21ms/step - loss: 1.8394 - top_k_categorical_accuracy: 0.8158 - val_loss: 1.7841 - val_top_k_categorical_accuracy: 0.8234\n",
            "Epoch 5/10\n",
            "1941/1941 [==============================] - 40s 21ms/step - loss: 1.7440 - top_k_categorical_accuracy: 0.8294 - val_loss: 1.7239 - val_top_k_categorical_accuracy: 0.8336\n",
            "Epoch 6/10\n",
            "1941/1941 [==============================] - 40s 21ms/step - loss: 1.6744 - top_k_categorical_accuracy: 0.8393 - val_loss: 1.6983 - val_top_k_categorical_accuracy: 0.8365\n",
            "Epoch 7/10\n",
            "1941/1941 [==============================] - 38s 19ms/step - loss: 1.6135 - top_k_categorical_accuracy: 0.8474 - val_loss: 1.6570 - val_top_k_categorical_accuracy: 0.8425\n",
            "Epoch 8/10\n",
            "1941/1941 [==============================] - 37s 19ms/step - loss: 1.5663 - top_k_categorical_accuracy: 0.8538 - val_loss: 1.6559 - val_top_k_categorical_accuracy: 0.8422\n",
            "Epoch 9/10\n",
            "1941/1941 [==============================] - 38s 19ms/step - loss: 1.5269 - top_k_categorical_accuracy: 0.8589 - val_loss: 1.6439 - val_top_k_categorical_accuracy: 0.8458\n",
            "Epoch 10/10\n",
            "1941/1941 [==============================] - 37s 19ms/step - loss: 1.4877 - top_k_categorical_accuracy: 0.8639 - val_loss: 1.6178 - val_top_k_categorical_accuracy: 0.8480\n"
          ],
          "name": "stdout"
        }
      ]
    },
    {
      "cell_type": "code",
      "metadata": {
        "id": "Kl_kYqla9YG7",
        "colab_type": "code",
        "colab": {
          "base_uri": "https://localhost:8080/",
          "height": 51
        },
        "outputId": "e022dcb2-0edc-4ce0-d3ce-af0110797f34"
      },
      "source": [
        "with tf.device('/device:GPU:0'):\n",
        "    score = model.evaluate(X_test, y_test)\n",
        "print('Test accuarcy: {:0.2f}%'.format(score[1] * 100))"
      ],
      "execution_count": null,
      "outputs": [
        {
          "output_type": "stream",
          "text": [
            "4313/4313 [==============================] - 22s 5ms/step - loss: 1.6256 - top_k_categorical_accuracy: 0.8460\n",
            "Test accuarcy: 84.60%\n"
          ],
          "name": "stdout"
        }
      ]
    },
    {
      "cell_type": "code",
      "metadata": {
        "id": "Ga5KAIcKAKmH",
        "colab_type": "code",
        "colab": {
          "base_uri": "https://localhost:8080/",
          "height": 282
        },
        "outputId": "f6595e2c-62ec-4284-ed7b-3238a123c9ea"
      },
      "source": [
        "index = np.random.randint(0, len(X_test))\n",
        "plt.imshow(X_test[index].reshape(28, 28), cmap='gray')\n",
        "plt.show()\n",
        "print(class_name_list[np.argmax(y_test[index])])"
      ],
      "execution_count": null,
      "outputs": [
        {
          "output_type": "display_data",
          "data": {
            "image/png": "[encoded data removed]",
            "text/plain": [
              "<Figure size 432x288 with 1 Axes>"
            ]
          },
          "metadata": {
            "tags": [],
            "needs_background": "light"
          }
        },
        {
          "output_type": "stream",
          "text": [
            "purse\n"
          ],
          "name": "stdout"
        }
      ]
    },
    {
      "cell_type": "code",
      "metadata": {
        "id": "64tT9iqWDSdL",
        "colab_type": "code",
        "colab": {
          "base_uri": "https://localhost:8080/",
          "height": 102
        },
        "outputId": "42dff04e-eb2b-46ae-f6f1-50c8a4ac3f0c"
      },
      "source": [
        "image = X_test[index]\n",
        "image = np.expand_dims(image, axis=0)\n",
        "predictions = model.predict(image)\n",
        "for p in predictions.argsort().reshape(-1)[-5:]:\n",
        "    print('{} : {:.2f}'.format(class_name_list[p], predictions.reshape(-1)[p] * 100))"
      ],
      "execution_count": null,
      "outputs": [
        {
          "output_type": "stream",
          "text": [
            "toilet : 1.32\n",
            "bucket : 1.83\n",
            "cooler : 1.92\n",
            "basket : 7.18\n",
            "purse : 83.97\n"
          ],
          "name": "stdout"
        }
      ]
    },
    {
      "cell_type": "code",
      "metadata": {
        "id": "MYSLb71hRD9m",
        "colab_type": "code",
        "colab": {
          "base_uri": "https://localhost:8080/",
          "height": 68
        },
        "outputId": "0b1bd090-b2ee-402e-d2ba-72c0ebd45a0b"
      },
      "source": [
        "%cd ..\n",
        "%ls"
      ],
      "execution_count": null,
      "outputs": [
        {
          "output_type": "stream",
          "text": [
            "/content/gdrive/My Drive\n",
            "collect_quick_draw_data  quick_draw_cnn    quickdraw_predict.ipynb\n",
            "model.h5                 \u001b[0m\u001b[01;34mquick_draw_data\u001b[0m/\n"
          ],
          "name": "stdout"
        }
      ]
    },
    {
      "cell_type": "code",
      "metadata": {
        "id": "WBYCQl03RGcB",
        "colab_type": "code",
        "colab": {}
      },
      "source": [
        "model.save('model.h5')"
      ],
      "execution_count": null,
      "outputs": []
    },
    {
      "cell_type": "code",
      "metadata": {
        "id": "iQubatuU_wbB",
        "colab_type": "code",
        "colab": {}
      },
      "source": [
        "np.save('classes.npy', class_name_list)"
      ],
      "execution_count": null,
      "outputs": []
    },
    {
      "cell_type": "code",
      "metadata": {
        "id": "51Wmp8TeDKtc",
        "colab_type": "code",
        "colab": {
          "base_uri": "https://localhost:8080/",
          "height": 51
        },
        "outputId": "ecdb5f3d-5b5c-42e0-ac1c-7a84b0938611"
      },
      "source": [
        "%ls"
      ],
      "execution_count": null,
      "outputs": [
        {
          "output_type": "stream",
          "text": [
            "classes.npy              model.h5        \u001b[0m\u001b[01;34mquick_draw_data\u001b[0m/\n",
            "collect_quick_draw_data  quick_draw_cnn  quickdraw_predict.ipynb\n"
          ],
          "name": "stdout"
        }
      ]
    },
    {
      "cell_type": "code",
      "metadata": {
        "id": "NqNgxpe1DLpa",
        "colab_type": "code",
        "colab": {}
      },
      "source": [
        ""
      ],
      "execution_count": null,
      "outputs": []
    }
  ]
}